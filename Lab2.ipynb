{
 "cells": [
  {
   "cell_type": "code",
   "execution_count": 1,
   "id": "3289e27f-4df9-464f-9e4b-59521ea46e64",
   "metadata": {},
   "outputs": [
    {
     "name": "stdout",
     "output_type": "stream",
     "text": [
      "Original tuple of ZIP codes: ('90210', '60601', '94102')\n",
      "Reversed tuple of ZIP codes: ('94102', '60601', '90210')\n"
     ]
    }
   ],
   "source": [
    "#Question 1a : Given a list of cities and their corresponding ZIP codes, extract the ZIP codes and organize them into a tuple. \n",
    "\n",
    "zipcode_dict = {\"90210\": \"Beverly Hills, CA\", \"60601\": \"Chicago, IL\", \"94102\": \"San Francisco, CA\"}\n",
    "zipcode_tuple = tuple(zipcode_dict.keys())\n",
    "#Question 1b: Rearrange the tuple in reverse order from 1a. \n",
    "zipcode_tuple_reversed = zipcode_tuple[::-1]\n",
    "\n",
    "print(\"Original tuple of ZIP codes:\", zipcode_tuple)\n",
    "print(\"Reversed tuple of ZIP codes:\", zipcode_tuple_reversed)\n",
    "\n",
    "\n"
   ]
  },
  {
   "cell_type": "code",
   "execution_count": 2,
   "id": "0119a72c-2b26-469e-a8f2-e0b36b62935f",
   "metadata": {},
   "outputs": [
    {
     "name": "stdout",
     "output_type": "stream",
     "text": [
      "Starting position: 55\n",
      "Ending position: 61\n"
     ]
    }
   ],
   "source": [
    "# question 2 : Here is a list of groceries. The user needs help extracting the text \"apples\" and placing the text \"apples\" into the sentence below.\n",
    "#  Please use regular expressions. ( regex ) \n",
    "import re  \n",
    "random_text = \"Milk, eggs, bread, butter, cheese, fresh fruits (e.g., apples, bananas), fresh vegetables (e.g., lettuce, tomatoes), rice, pasta, canned tomatoes, chicken breasts or thighs, ground beef or turkey, cooking oil (e.g., olive oil), spices (e.g., salt, pepper), snacks (e.g., chips, nuts)\" \n",
    "#from https://randomwordgenerator.com/sentence.php 😀\n",
    "import re\n",
    "\n",
    "# Given text with the list of groceries\n",
    "random_text = \"Milk, eggs, bread, butter, cheese, fresh fruits (e.g., apples, bananas), fresh vegetables (e.g., lettuce, tomatoes), rice, pasta, canned tomatoes, chicken breasts or thighs, ground beef or turkey, cooking oil (e.g., olive oil), spices (e.g., salt, pepper), snacks (e.g., chips, nuts)\"\n",
    "\n",
    "# Regular expression to find the word 'apples'\n",
    "match = re.search(r'apples', random_text)\n",
    "\n",
    "# Initialize starting and ending positions\n",
    "start_pos, end_pos = (None, None)\n",
    "\n",
    "# Check if the pattern was found in the text\n",
    "if match:\n",
    "    start_pos, end_pos = match.start(), match.end()\n",
    "#What is the starting and ending position of the text \"apples\" in random_text? Paste below 👇 \n",
    "# Output the starting and ending positions of 'apples'\n",
    "print(\"Starting position:\", start_pos)\n",
    "print(\"Ending position:\", end_pos)\n"
   ]
  },
  {
   "cell_type": "code",
   "execution_count": 6,
   "id": "bae211a8-20d1-44c2-97bf-5ed98fc4cd74",
   "metadata": {},
   "outputs": [
    {
     "name": "stdout",
     "output_type": "stream",
     "text": [
      "Ingredients: ['2 (9&quot;) pie crusts', '7 large Granny Smith apples (peeled, cored and sliced into 1/2 inch slices)', '1/2 cup granulated sugar', '1/2 cup light brown sugar (loosely packed)', '2 tablespoons all-purpose flour', '1 teaspoon ground cinnamon', '1/8 teaspoon ground nutmeg', '1 tablespoon lemon juice (plus the zest of half of a lemon)', '1 large egg (lightly beaten in a small bowl for egg wash)', '2 tablespoons sanding sugar (optional)']\n"
     ]
    }
   ],
   "source": [
    "# question 3 : \n",
    "#I have a link to a recipe for making apple pie, perfect for celebrating Pi Day. \n",
    "#I'm seeking assistance with extracting the 'recipeIngredient' section from the website. \n",
    "#A helpful hint is that we could utilize the 'json' module for this task.\n",
    "from bs4 import BeautifulSoup\n",
    "import json\n",
    "import ssl\n",
    "from urllib.request import Request, urlopen\n",
    "\n",
    "def fetch_ingredients(url):\n",
    "    try:\n",
    "        context = ssl._create_unverified_context()\n",
    "        req = Request(url, headers={'User-Agent': 'Mozilla/5.0'})\n",
    "        with urlopen(req, context=context) as response:\n",
    "            html_content = response.read()\n",
    "\n",
    "        soup = BeautifulSoup(html_content, 'html.parser')\n",
    "        script_tags = soup.find_all('script', type='application/ld+json')\n",
    "\n",
    "        for script in script_tags:\n",
    "            try:\n",
    "                data = json.loads(script.string)\n",
    "\n",
    "                if isinstance(data, dict) and '@graph' in data:\n",
    "                    for item in data['@graph']:\n",
    "                        # Make sure '@type' is a string before calling '.lower()'\n",
    "                        if isinstance(item.get('@type'), str) and item.get('@type').lower() == 'recipe':\n",
    "                            return item.get('recipeIngredient', [])\n",
    "\n",
    "            except json.JSONDecodeError as e:\n",
    "                print(f\"JSON decode error: {e}\")\n",
    "                continue\n",
    "\n",
    "        print(\"No 'recipeIngredient' data found within the JSON-LD scripts.\")\n",
    "        return []\n",
    "    \n",
    "    except Exception as e:\n",
    "        print(f\"An error occurred: {e}\")\n",
    "        return []\n",
    "\n",
    "# URL of the site with the apple pie recipe\n",
    "site = \"https://littlespoonfarm.com/apple-pie-recipe/\"\n",
    "ingredients = fetch_ingredients(site)\n",
    "\n",
    "# Output the ingredients list\n",
    "print(\"Ingredients:\", ingredients)\n"
   ]
  },
  {
   "cell_type": "code",
   "execution_count": 8,
   "id": "96c51918-ae9b-493a-9803-88087a586dad",
   "metadata": {},
   "outputs": [
    {
     "name": "stdout",
     "output_type": "stream",
     "text": [
      "Even numbers from setA: {-70, -60, 36, 74, 42, -52, 12, -20, -82, 18, -46, -14, 88, -38}\n",
      "Odd numbers from setB: {-95, -31, 67, -29, 69, 41, 91, 79, 17, -13, -73, 25, 27, -35, 63}\n",
      "Intersection of set2 and set3: {9, 2, 5, 6}\n"
     ]
    }
   ],
   "source": [
    "# question 4 :\n",
    "# Here are two sets \n",
    "#4a: Create a code for the user who wants to extract only even numbers from setA.\n",
    "setA = {-82, 45, -27, 69, -14, 83, 57, -91, 36, -3, 18, -60, 74, -38, 5, -70, 29, 91, -52, 12, -46, 63, -9, 42, 77, -65, 21, -37, 88, -20}\n",
    "even_numbers = {num for num in setA if num % 2 == 0}\n",
    "\n",
    "\n",
    "#4b: Create a code for the user who wants to extract only odd numbers from setB.\n",
    "setB = {-88, 17, -42, 69, -31, 58, 74, -95, 25, -13, 36, 67, 82, -50, 41, -73, 6, 91, -29, 52, -84, 27, -20, 63, 79, -58, 12, -35, 88, -16}\n",
    "odd_numbers = {num for num in setB if num % 2 != 0}\n",
    "\n",
    "      \n",
    "#4c: Find the intersection between set2 and set3.\n",
    "\n",
    "set2 = {1,2,4,5,6,7,8,9}\n",
    "set3 = {2,9,5,6,15,13}\n",
    "intersection = set2 & set3\n",
    "\n",
    "print(f\"Even numbers from setA: {even_numbers}\")\n",
    "print(f\"Odd numbers from setB: {odd_numbers}\")\n",
    "print(f\"Intersection of set2 and set3: {intersection}\")\n"
   ]
  },
  {
   "cell_type": "code",
   "execution_count": null,
   "id": "39186245-0a7e-48c4-b0e5-c0b2e8cdb8ed",
   "metadata": {},
   "outputs": [],
   "source": [
    "# Question 5\n",
    "#Upload your completed lab to your GitHub and submit the link to yout Git Hub account."
   ]
  }
 ],
 "metadata": {
  "kernelspec": {
   "display_name": "Python 3 (ipykernel)",
   "language": "python",
   "name": "python3"
  },
  "language_info": {
   "codemirror_mode": {
    "name": "ipython",
    "version": 3
   },
   "file_extension": ".py",
   "mimetype": "text/x-python",
   "name": "python",
   "nbconvert_exporter": "python",
   "pygments_lexer": "ipython3",
   "version": "3.11.5"
  }
 },
 "nbformat": 4,
 "nbformat_minor": 5
}
